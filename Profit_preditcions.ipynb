{
 "cells": [
  {
   "cell_type": "markdown",
   "metadata": {},
   "source": [
    "# Oil Wells Profit Prediction \n",
    "---"
   ]
  },
  {
   "cell_type": "markdown",
   "metadata": {},
   "source": [
    "The project task is to find the most profitable place for OilyGiant's new well. Three regions will be examined. The following steps will be taken:\n",
    "- Collect the oil well parameters in the selected region: oil quality and volume of reserves\n",
    "- Build a model for predicting the volume of reserves in the new wells\n",
    "- Pick the oil wells with the highest estimated values\n",
    "- Pick the region with the highest total profit for the selected oil wells"
   ]
  },
  {
   "cell_type": "markdown",
   "metadata": {},
   "source": [
    "### Part One: Prepare the Data\n",
    "---"
   ]
  },
  {
   "cell_type": "code",
   "execution_count": 436,
   "metadata": {},
   "outputs": [],
   "source": [
    "# Install Necessary Packages \n",
    "\n",
    "# Data Prep Packages \n",
    "import pandas as pd \n",
    "import numpy as np\n",
    "from sklearn.model_selection import train_test_split\n",
    "from sklearn.preprocessing import StandardScaler\n",
    "from sklearn.utils import shuffle\n",
    "\n",
    "# Model \n",
    "from sklearn.linear_model import LinearRegression\n",
    "from sklearn.linear_model import Ridge\n",
    "from sklearn.model_selection import GridSearchCV\n",
    "\n",
    "# Model Assessment Package \n",
    "from sklearn.metrics import  mean_squared_error\n",
    "\n",
    "# Visualization package \n",
    "import matplotlib.pyplot as plt"
   ]
  },
  {
   "cell_type": "code",
   "execution_count": 437,
   "metadata": {},
   "outputs": [
    {
     "name": "stdout",
     "output_type": "stream",
     "text": [
      "The data has been read in as r0, r1, and r2.\n"
     ]
    }
   ],
   "source": [
    "# Read in the data \n",
    "try:\n",
    "    # Attempt to read the data\n",
    "    r0 = pd.read_csv('datasets/geo_data_0.csv')\n",
    "    r1 = pd.read_csv('datasets/geo_data_1.csv')\n",
    "    r2 = pd.read_csv('datasets/geo_data_2.csv')\n",
    "    # If successful, print Confirmation\n",
    "    print(\"The data has been read in as r0, r1, and r2.\")\n",
    "except Exception as e:\n",
    "    # If an error occurs, print an error message\n",
    "    print(\"Error reading data:\", e)\n",
    "    print(\"To get the data sets please visit: https://github.com/le-crupi64/Oil-Well-Profit-Prediction\")"
   ]
  },
  {
   "cell_type": "markdown",
   "metadata": {},
   "source": [
    "#### Check for any data cleanliness issues"
   ]
  },
  {
   "cell_type": "code",
   "execution_count": 438,
   "metadata": {},
   "outputs": [
    {
     "name": "stdout",
     "output_type": "stream",
     "text": [
      "<class 'pandas.core.frame.DataFrame'>\n",
      "RangeIndex: 100000 entries, 0 to 99999\n",
      "Data columns (total 5 columns):\n",
      " #   Column   Non-Null Count   Dtype  \n",
      "---  ------   --------------   -----  \n",
      " 0   id       100000 non-null  object \n",
      " 1   f0       100000 non-null  float64\n",
      " 2   f1       100000 non-null  float64\n",
      " 3   f2       100000 non-null  float64\n",
      " 4   product  100000 non-null  float64\n",
      "dtypes: float64(4), object(1)\n",
      "memory usage: 3.8+ MB\n"
     ]
    }
   ],
   "source": [
    "r0.info()"
   ]
  },
  {
   "cell_type": "code",
   "execution_count": 439,
   "metadata": {},
   "outputs": [
    {
     "name": "stdout",
     "output_type": "stream",
     "text": [
      "<class 'pandas.core.frame.DataFrame'>\n",
      "RangeIndex: 100000 entries, 0 to 99999\n",
      "Data columns (total 5 columns):\n",
      " #   Column   Non-Null Count   Dtype  \n",
      "---  ------   --------------   -----  \n",
      " 0   id       100000 non-null  object \n",
      " 1   f0       100000 non-null  float64\n",
      " 2   f1       100000 non-null  float64\n",
      " 3   f2       100000 non-null  float64\n",
      " 4   product  100000 non-null  float64\n",
      "dtypes: float64(4), object(1)\n",
      "memory usage: 3.8+ MB\n"
     ]
    }
   ],
   "source": [
    "r1.info()"
   ]
  },
  {
   "cell_type": "code",
   "execution_count": 440,
   "metadata": {},
   "outputs": [
    {
     "name": "stdout",
     "output_type": "stream",
     "text": [
      "<class 'pandas.core.frame.DataFrame'>\n",
      "RangeIndex: 100000 entries, 0 to 99999\n",
      "Data columns (total 5 columns):\n",
      " #   Column   Non-Null Count   Dtype  \n",
      "---  ------   --------------   -----  \n",
      " 0   id       100000 non-null  object \n",
      " 1   f0       100000 non-null  float64\n",
      " 2   f1       100000 non-null  float64\n",
      " 3   f2       100000 non-null  float64\n",
      " 4   product  100000 non-null  float64\n",
      "dtypes: float64(4), object(1)\n",
      "memory usage: 3.8+ MB\n"
     ]
    }
   ],
   "source": [
    "r2.info()"
   ]
  },
  {
   "cell_type": "code",
   "execution_count": 441,
   "metadata": {},
   "outputs": [
    {
     "name": "stdout",
     "output_type": "stream",
     "text": [
      "Duplicated rows in r0:  0\n",
      "Duplicated ids in r0:  10\n",
      "Duplicated rows in r1:  0\n",
      "Duplicated ids in r1:  4\n",
      "Duplicated rows in r2:  0\n",
      "Duplicated ids in r2:  4\n"
     ]
    }
   ],
   "source": [
    "# Check for duplicated rows and ids \n",
    "# Region 0\n",
    "print(\"Duplicated rows in r0: \", r0.duplicated().sum())\n",
    "print(\"Duplicated ids in r0: \", r0['id'].duplicated().sum())\n",
    "\n",
    "# Region 1\n",
    "print(\"Duplicated rows in r1: \", r1.duplicated().sum())\n",
    "print(\"Duplicated ids in r1: \", r1['id'].duplicated().sum())\n",
    "\n",
    "# Region 2\n",
    "print(\"Duplicated rows in r2: \", r2.duplicated().sum())\n",
    "print(\"Duplicated ids in r2: \", r2['id'].duplicated().sum())"
   ]
  },
  {
   "cell_type": "markdown",
   "metadata": {},
   "source": [
    "**Data Cleanliness Findings**\n",
    "- All three data sets have no null values and all columns are in the appropriate data type\n",
    "- All three data sets have duplicates in the id column, but the rows have unique features. \n",
    "\n",
    "Corrective Action: Leave the rows but drop the id column, as it can not be passed into the linear regression model"
   ]
  },
  {
   "cell_type": "markdown",
   "metadata": {},
   "source": [
    "#### Statistical Data Analysis "
   ]
  },
  {
   "cell_type": "code",
   "execution_count": 442,
   "metadata": {},
   "outputs": [
    {
     "data": {
      "image/png": "[encoded data removed]",
      "text/plain": [
       "<Figure size 1000x600 with 1 Axes>"
      ]
     },
     "metadata": {},
     "output_type": "display_data"
    }
   ],
   "source": [
    "# Create a Box Plot for Region Zero Features \n",
    "columns_to_plot = ['f0', 'f1', 'f2']\n",
    "\n",
    "# Extract data for the specified columns\n",
    "data_to_plot = r0[columns_to_plot]\n",
    "\n",
    "# Create a box plot\n",
    "plt.figure(figsize=(10, 6))  # Adjust figure size as needed\n",
    "data_to_plot.boxplot()\n",
    "\n",
    "# Customize plot\n",
    "plt.title('Box Plot Region Zero Feature Distribution')\n",
    "plt.ylabel('Value')\n",
    "plt.xlabel('Column')\n",
    "plt.xticks(rotation=45)  # Rotate x-axis labels for better readability\n",
    "\n",
    "# Show plot\n",
    "plt.tight_layout()  # Adjust layout to prevent overlap\n",
    "plt.show()"
   ]
  },
  {
   "cell_type": "code",
   "execution_count": 443,
   "metadata": {},
   "outputs": [
    {
     "data": {
      "image/png": "[encoded data removed]",
      "text/plain": [
       "<Figure size 1000x600 with 1 Axes>"
      ]
     },
     "metadata": {},
     "output_type": "display_data"
    }
   ],
   "source": [
    "# Create a Box Plot for Region one Features \n",
    "columns_to_plot = ['f0', 'f1', 'f2']\n",
    "\n",
    "# Extract data for the specified columns\n",
    "data_to_plot = r1[columns_to_plot]\n",
    "\n",
    "# Create a box plot\n",
    "plt.figure(figsize=(10, 6))  # Adjust figure size as needed\n",
    "data_to_plot.boxplot()\n",
    "\n",
    "# Customize plot\n",
    "plt.title('Box Plot Region One Feature Distribution')\n",
    "plt.ylabel('Value')\n",
    "plt.xlabel('Column')\n",
    "plt.xticks(rotation=45)  # Rotate x-axis labels for better readability\n",
    "\n",
    "# Show plot\n",
    "plt.tight_layout()  # Adjust layout to prevent overlap\n",
    "plt.show()"
   ]
  },
  {
   "cell_type": "code",
   "execution_count": 444,
   "metadata": {},
   "outputs": [
    {
     "data": {
      "image/png": "[encoded data removed]",
      "text/plain": [
       "<Figure size 1000x600 with 1 Axes>"
      ]
     },
     "metadata": {},
     "output_type": "display_data"
    }
   ],
   "source": [
    "# Create a Box Plot for Region Two Features \n",
    "columns_to_plot = ['f0', 'f1', 'f2']\n",
    "\n",
    "# Extract data for the specified columns\n",
    "data_to_plot = r2[columns_to_plot]\n",
    "\n",
    "# Create a box plot\n",
    "plt.figure(figsize=(10, 6))  # Adjust figure size as needed\n",
    "data_to_plot.boxplot()\n",
    "\n",
    "# Customize plot\n",
    "plt.title('Box Plot Region Two Feature Distribution')\n",
    "plt.ylabel('Value')\n",
    "plt.xlabel('Column')\n",
    "plt.xticks(rotation=45)  # Rotate x-axis labels for better readability\n",
    "\n",
    "# Show plot\n",
    "plt.tight_layout()  # Adjust layout to prevent overlap\n",
    "plt.show()"
   ]
  },
  {
   "cell_type": "markdown",
   "metadata": {},
   "source": [
    "**Findings:** \n",
    "Due to the difference in the scale of the various features for all three data sets, the data should be scaled. "
   ]
  },
  {
   "cell_type": "markdown",
   "metadata": {},
   "source": [
    "#### Scaling and Splitting the Data "
   ]
  },
  {
   "cell_type": "markdown",
   "metadata": {},
   "source": [
    "**Prepare the Region Zero Data Set**"
   ]
  },
  {
   "cell_type": "code",
   "execution_count": 445,
   "metadata": {},
   "outputs": [],
   "source": [
    "# Split the r0 data set into features and target\n",
    "target = r0['product']\n",
    "features = r0.drop(['product', 'id'], axis = 1)\n"
   ]
  },
  {
   "cell_type": "code",
   "execution_count": 446,
   "metadata": {},
   "outputs": [
    {
     "name": "stdout",
     "output_type": "stream",
     "text": [
      "(100000,)\n",
      "(100000, 3)\n"
     ]
    }
   ],
   "source": [
    "# Scale numerical features\n",
    "scaler = StandardScaler()\n",
    "features = scaler.fit_transform(features)\n",
    "\n",
    "print(target.shape)\n",
    "print(features.shape)"
   ]
  },
  {
   "cell_type": "code",
   "execution_count": 447,
   "metadata": {},
   "outputs": [
    {
     "name": "stdout",
     "output_type": "stream",
     "text": [
      "features_train size:  (75000, 3)\n",
      "target_train size:  (75000,)\n",
      "features_valid size:  (25000, 3)\n",
      "target_valid size:  (25000,)\n"
     ]
    }
   ],
   "source": [
    "# Split into training and validation sets\n",
    "r0_features_train, r0_features_valid, r0_target_train, r0_target_valid = train_test_split(features, target, test_size=0.25, random_state=12345)\n",
    "\n",
    "# Check Set shapes \n",
    "print('features_train size: ', r0_features_train.shape)\n",
    "print('target_train size: ', r0_target_train.shape)\n",
    "print('features_valid size: ', r0_features_valid.shape)\n",
    "print('target_valid size: ', r0_target_valid.shape)"
   ]
  },
  {
   "cell_type": "markdown",
   "metadata": {},
   "source": [
    "**Prepare the Region One Data Set**"
   ]
  },
  {
   "cell_type": "code",
   "execution_count": 448,
   "metadata": {},
   "outputs": [],
   "source": [
    "# Split the r1 data set into features and target\n",
    "target = r1['product']\n",
    "features = r1.drop(['product', 'id'], axis = 1)"
   ]
  },
  {
   "cell_type": "code",
   "execution_count": 449,
   "metadata": {},
   "outputs": [],
   "source": [
    "# Scale Numeric Features\n",
    "\n",
    "# Scale numerical features\n",
    "scaler = StandardScaler()\n",
    "features = scaler.fit_transform(features)\n"
   ]
  },
  {
   "cell_type": "code",
   "execution_count": 450,
   "metadata": {},
   "outputs": [
    {
     "name": "stdout",
     "output_type": "stream",
     "text": [
      "features_train size:  (75000, 3)\n",
      "target_train size:  (75000,)\n",
      "features_valid size:  (25000, 3)\n",
      "target_valid size:  (25000,)\n"
     ]
    }
   ],
   "source": [
    "# Split into training and validation sets\n",
    "r1_features_train, r1_features_valid, r1_target_train, r1_target_valid = train_test_split(features, target, test_size=0.25, random_state=12345)\n",
    "\n",
    "# Check Set shapes \n",
    "print('features_train size: ', r1_features_train.shape)\n",
    "print('target_train size: ', r1_target_train.shape)\n",
    "print('features_valid size: ', r1_features_valid.shape)\n",
    "print('target_valid size: ', r1_target_valid.shape)"
   ]
  },
  {
   "cell_type": "markdown",
   "metadata": {},
   "source": [
    "**Prepare the Region Two Data Set**"
   ]
  },
  {
   "cell_type": "code",
   "execution_count": 451,
   "metadata": {},
   "outputs": [],
   "source": [
    "# Split the r1 data set into features and target\n",
    "target = r2['product']\n",
    "features = r2.drop(['product', 'id'], axis = 1)"
   ]
  },
  {
   "cell_type": "code",
   "execution_count": 452,
   "metadata": {},
   "outputs": [
    {
     "name": "stdout",
     "output_type": "stream",
     "text": [
      "(100000,)\n",
      "(100000, 3)\n"
     ]
    }
   ],
   "source": [
    "# Scale numerical features\n",
    "scaler = StandardScaler()\n",
    "features = scaler.fit_transform(features)\n",
    "\n",
    "print(target.shape)\n",
    "print(features.shape)"
   ]
  },
  {
   "cell_type": "code",
   "execution_count": 453,
   "metadata": {},
   "outputs": [
    {
     "name": "stdout",
     "output_type": "stream",
     "text": [
      "features_train size:  (75000, 3)\n",
      "target_train size:  (75000,)\n",
      "features_valid size:  (25000, 3)\n",
      "target_valid size:  (25000,)\n"
     ]
    }
   ],
   "source": [
    "# Split into training and validation sets\n",
    "r2_features_train, r2_features_valid, r2_target_train, r2_target_valid = train_test_split(features, target, test_size=0.25, random_state=12345)\n",
    "\n",
    "# Check Set shapes \n",
    "print('features_train size: ', r2_features_train.shape)\n",
    "print('target_train size: ', r2_target_train.shape)\n",
    "print('features_valid size: ', r2_features_valid.shape)\n",
    "print('target_valid size: ', r2_target_valid.shape)"
   ]
  },
  {
   "cell_type": "markdown",
   "metadata": {},
   "source": [
    "### Part Two: Train the Model and Make Predictions for Each Region \n",
    "---"
   ]
  },
  {
   "cell_type": "markdown",
   "metadata": {},
   "source": [
    "#### Region Zero "
   ]
  },
  {
   "cell_type": "code",
   "execution_count": 454,
   "metadata": {},
   "outputs": [
    {
     "name": "stdout",
     "output_type": "stream",
     "text": [
      "Average Volume of Predicted Reserves for Region 0:  92.59257976966408\n",
      "Model RMSE:  37.57943662739953\n"
     ]
    }
   ],
   "source": [
    "\n",
    "# Define a range of alpha values to search\n",
    "alphas = [0.001, 0.01, 0.1, 1, 10, 100]\n",
    "\n",
    "# Perform grid search with cross-validation\n",
    "param_grid = {'alpha': alphas}\n",
    "grid_search = GridSearchCV(Ridge(), param_grid, cv=5)\n",
    "grid_search.fit(r0_features_train, r0_target_train)\n",
    "\n",
    "# Get the best Ridge regression model from grid search\n",
    "best_ridge_model = grid_search.best_estimator_\n",
    "\n",
    "# Make predictions on the validation data using the best model\n",
    "r0_predictions = best_ridge_model.predict(r0_features_valid)\n",
    "\n",
    "# Calculate RMSE\n",
    "mse = mean_squared_error(r0_target_valid, r0_predictions)\n",
    "rmse = np.sqrt(mse)\n",
    "\n",
    "print('Average Volume of Predicted Reserves for Region 0: ', r0_predictions.mean())\n",
    "print(\"Model RMSE: \", rmse)"
   ]
  },
  {
   "cell_type": "markdown",
   "metadata": {},
   "source": [
    "#### Region One"
   ]
  },
  {
   "cell_type": "code",
   "execution_count": 455,
   "metadata": {},
   "outputs": [
    {
     "name": "stdout",
     "output_type": "stream",
     "text": [
      "Average Volume of Predicted Reserves for Region One:  68.728546895446\n",
      "Model RMSE:  0.893099286775617\n"
     ]
    }
   ],
   "source": [
    "r1_model = LinearRegression()\n",
    "\n",
    "r1_model.fit(r1_features_train, r1_target_train)\n",
    "\n",
    "r1_predictions = r1_model.predict(r1_features_valid)\n",
    "\n",
    "# Calculate the RMSE\n",
    "mse = mean_squared_error(r1_target_valid, r1_predictions)\n",
    "rmse = np.sqrt(mse)\n",
    "\n",
    "print('Average Volume of Predicted Reserves for Region One: ', r1_predictions.mean())\n",
    "print(\"Model RMSE: \", rmse)"
   ]
  },
  {
   "cell_type": "markdown",
   "metadata": {},
   "source": [
    "#### Region Two"
   ]
  },
  {
   "cell_type": "code",
   "execution_count": 456,
   "metadata": {},
   "outputs": [
    {
     "name": "stdout",
     "output_type": "stream",
     "text": [
      "Average Volume of Predicted Reserves for Region One:  94.96504596800489\n",
      "Model RMSE:  40.02970873393434\n"
     ]
    }
   ],
   "source": [
    "r2_model = LinearRegression()\n",
    "\n",
    "r2_model.fit(r2_features_train, r2_target_train)\n",
    "\n",
    "r2_predictions = r2_model.predict(r2_features_valid)\n",
    "\n",
    "# Calculate the RMSE\n",
    "mse = mean_squared_error(r2_target_valid, r2_predictions)\n",
    "rmse = np.sqrt(mse)\n",
    "\n",
    "print('Average Volume of Predicted Reserves for Region One: ', r2_predictions.mean())\n",
    "print(\"Model RMSE: \", rmse)"
   ]
  },
  {
   "cell_type": "markdown",
   "metadata": {},
   "source": [
    "### Part Three: Profit Calculations\n",
    "---"
   ]
  },
  {
   "cell_type": "markdown",
   "metadata": {},
   "source": [
    "### Part Four: Calculate Risks and Profit for Each Region\n",
    "---"
   ]
  },
  {
   "cell_type": "markdown",
   "metadata": {},
   "source": [
    "### Final Recommendations \n",
    "---"
   ]
  },
  {
   "cell_type": "markdown",
   "metadata": {},
   "source": []
  }
 ],
 "metadata": {
  "kernelspec": {
   "display_name": "ML",
   "language": "python",
   "name": "python3"
  },
  "language_info": {
   "codemirror_mode": {
    "name": "ipython",
    "version": 3
   },
   "file_extension": ".py",
   "mimetype": "text/x-python",
   "name": "python",
   "nbconvert_exporter": "python",
   "pygments_lexer": "ipython3",
   "version": "3.10.13"
  }
 },
 "nbformat": 4,
 "nbformat_minor": 2
}
