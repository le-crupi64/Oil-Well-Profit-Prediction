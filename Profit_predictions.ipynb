{
 "cells": [
  {
   "cell_type": "markdown",
   "metadata": {},
   "source": [
    "# Oil Wells Profit Prediction \n",
    "---"
   ]
  },
  {
   "cell_type": "markdown",
   "metadata": {},
   "source": [
    "The project task is to find the most profitable place for OilyGiant's new well. Three regions will be examined. The following steps will be taken:\n",
    "- Collect the oil well parameters in the selected region: oil quality and volume of reserves\n",
    "- Build a model for predicting the volume of reserves in the new wells\n",
    "- Pick the oil wells with the highest estimated values\n",
    "- Pick the region with the highest total profit for the selected oil wells"
   ]
  },
  {
   "cell_type": "markdown",
   "metadata": {},
   "source": [
    "### Part One: Prepare the Data\n",
    "---"
   ]
  },
  {
   "cell_type": "code",
   "execution_count": 1,
   "metadata": {},
   "outputs": [],
   "source": [
    "# Install Necessary Packages \n",
    "\n",
    "# Data Prep Packages \n",
    "import pandas as pd \n",
    "import numpy as np\n",
    "from sklearn.model_selection import train_test_split\n",
    "from sklearn.preprocessing import StandardScaler\n",
    "from sklearn.utils import shuffle\n",
    "import random\n",
    "\n",
    "# Model \n",
    "from sklearn.linear_model import LinearRegression\n",
    "from sklearn.linear_model import Ridge\n",
    "from sklearn.model_selection import GridSearchCV\n",
    "\n",
    "# Model Assessment Package \n",
    "from sklearn.metrics import  mean_squared_error\n",
    "\n",
    "# Visualization package \n",
    "import matplotlib.pyplot as plt"
   ]
  },
  {
   "cell_type": "code",
   "execution_count": 2,
   "metadata": {},
   "outputs": [
    {
     "name": "stdout",
     "output_type": "stream",
     "text": [
      "The data has been read in as r0, r1, and r2.\n"
     ]
    }
   ],
   "source": [
    "# Read in the data \n",
    "try:\n",
    "    # Attempt to read the data\n",
    "    r0 = pd.read_csv('datasets/geo_data_0.csv')\n",
    "    r1 = pd.read_csv('datasets/geo_data_1.csv')\n",
    "    r2 = pd.read_csv('datasets/geo_data_2.csv')\n",
    "    # If successful, print Confirmation\n",
    "    print(\"The data has been read in as r0, r1, and r2.\")\n",
    "except Exception as e:\n",
    "    # If an error occurs, print an error message\n",
    "    print(\"Error reading data:\", e)\n",
    "    print(\"To get the data sets please visit: https://github.com/le-crupi64/Oil-Well-Profit-Prediction\")"
   ]
  },
  {
   "cell_type": "markdown",
   "metadata": {},
   "source": [
    "#### Check for any data cleanliness issues"
   ]
  },
  {
   "cell_type": "code",
   "execution_count": 3,
   "metadata": {},
   "outputs": [
    {
     "name": "stdout",
     "output_type": "stream",
     "text": [
      "<class 'pandas.core.frame.DataFrame'>\n",
      "RangeIndex: 100000 entries, 0 to 99999\n",
      "Data columns (total 5 columns):\n",
      " #   Column   Non-Null Count   Dtype  \n",
      "---  ------   --------------   -----  \n",
      " 0   id       100000 non-null  object \n",
      " 1   f0       100000 non-null  float64\n",
      " 2   f1       100000 non-null  float64\n",
      " 3   f2       100000 non-null  float64\n",
      " 4   product  100000 non-null  float64\n",
      "dtypes: float64(4), object(1)\n",
      "memory usage: 3.8+ MB\n"
     ]
    }
   ],
   "source": [
    "r0.info()"
   ]
  },
  {
   "cell_type": "code",
   "execution_count": 4,
   "metadata": {},
   "outputs": [
    {
     "name": "stdout",
     "output_type": "stream",
     "text": [
      "<class 'pandas.core.frame.DataFrame'>\n",
      "RangeIndex: 100000 entries, 0 to 99999\n",
      "Data columns (total 5 columns):\n",
      " #   Column   Non-Null Count   Dtype  \n",
      "---  ------   --------------   -----  \n",
      " 0   id       100000 non-null  object \n",
      " 1   f0       100000 non-null  float64\n",
      " 2   f1       100000 non-null  float64\n",
      " 3   f2       100000 non-null  float64\n",
      " 4   product  100000 non-null  float64\n",
      "dtypes: float64(4), object(1)\n",
      "memory usage: 3.8+ MB\n"
     ]
    }
   ],
   "source": [
    "r1.info()"
   ]
  },
  {
   "cell_type": "code",
   "execution_count": 5,
   "metadata": {},
   "outputs": [
    {
     "name": "stdout",
     "output_type": "stream",
     "text": [
      "<class 'pandas.core.frame.DataFrame'>\n",
      "RangeIndex: 100000 entries, 0 to 99999\n",
      "Data columns (total 5 columns):\n",
      " #   Column   Non-Null Count   Dtype  \n",
      "---  ------   --------------   -----  \n",
      " 0   id       100000 non-null  object \n",
      " 1   f0       100000 non-null  float64\n",
      " 2   f1       100000 non-null  float64\n",
      " 3   f2       100000 non-null  float64\n",
      " 4   product  100000 non-null  float64\n",
      "dtypes: float64(4), object(1)\n",
      "memory usage: 3.8+ MB\n"
     ]
    }
   ],
   "source": [
    "r2.info()"
   ]
  },
  {
   "cell_type": "code",
   "execution_count": 6,
   "metadata": {},
   "outputs": [
    {
     "name": "stdout",
     "output_type": "stream",
     "text": [
      "Duplicated rows in r0:  0\n",
      "Duplicated ids in r0:  10\n",
      "Duplicated rows in r1:  0\n",
      "Duplicated ids in r1:  4\n",
      "Duplicated rows in r2:  0\n",
      "Duplicated ids in r2:  4\n"
     ]
    }
   ],
   "source": [
    "# Check for duplicated rows and ids \n",
    "# Region 0\n",
    "print(\"Duplicated rows in r0: \", r0.duplicated().sum())\n",
    "print(\"Duplicated ids in r0: \", r0['id'].duplicated().sum())\n",
    "\n",
    "# Region 1\n",
    "print(\"Duplicated rows in r1: \", r1.duplicated().sum())\n",
    "print(\"Duplicated ids in r1: \", r1['id'].duplicated().sum())\n",
    "\n",
    "# Region 2\n",
    "print(\"Duplicated rows in r2: \", r2.duplicated().sum())\n",
    "print(\"Duplicated ids in r2: \", r2['id'].duplicated().sum())"
   ]
  },
  {
   "cell_type": "markdown",
   "metadata": {},
   "source": [
    "**Data Cleanliness Findings**\n",
    "- All three data sets have no null values and all columns are in the appropriate data type\n",
    "- All three data sets have duplicates in the id column, but the rows have unique features. \n",
    "\n",
    "Corrective Action: Leave the rows but drop the id column, as it can not be passed into the linear regression model"
   ]
  },
  {
   "cell_type": "markdown",
   "metadata": {},
   "source": [
    "#### Statistical Data Analysis "
   ]
  },
  {
   "cell_type": "code",
   "execution_count": 7,
   "metadata": {},
   "outputs": [
    {
     "data": {
      "image/png": "[encoded data removed]",
      "text/plain": [
       "<Figure size 720x432 with 1 Axes>"
      ]
     },
     "metadata": {
      "needs_background": "light"
     },
     "output_type": "display_data"
    }
   ],
   "source": [
    "# Create a Box Plot for Region Zero Features \n",
    "columns_to_plot = ['f0', 'f1', 'f2']\n",
    "\n",
    "# Extract data for the specified columns\n",
    "data_to_plot = r0[columns_to_plot]\n",
    "\n",
    "# Create a box plot\n",
    "plt.figure(figsize=(10, 6))  # Adjust figure size as needed\n",
    "data_to_plot.boxplot()\n",
    "\n",
    "# Customize plot\n",
    "plt.title('Box Plot Region Zero Feature Distribution')\n",
    "plt.ylabel('Value')\n",
    "plt.xlabel('Column')\n",
    "plt.xticks(rotation=45)  # Rotate x-axis labels for better readability\n",
    "\n",
    "# Show plot\n",
    "plt.tight_layout()  # Adjust layout to prevent overlap\n",
    "plt.show()"
   ]
  },
  {
   "cell_type": "code",
   "execution_count": 8,
   "metadata": {},
   "outputs": [
    {
     "data": {
      "image/png": "[encoded data removed]",
      "text/plain": [
       "<Figure size 720x432 with 1 Axes>"
      ]
     },
     "metadata": {
      "needs_background": "light"
     },
     "output_type": "display_data"
    }
   ],
   "source": [
    "# Create a Box Plot for Region one Features \n",
    "columns_to_plot = ['f0', 'f1', 'f2']\n",
    "\n",
    "# Extract data for the specified columns\n",
    "data_to_plot = r1[columns_to_plot]\n",
    "\n",
    "# Create a box plot\n",
    "plt.figure(figsize=(10, 6))  # Adjust figure size as needed\n",
    "data_to_plot.boxplot()\n",
    "\n",
    "# Customize plot\n",
    "plt.title('Box Plot Region One Feature Distribution')\n",
    "plt.ylabel('Value')\n",
    "plt.xlabel('Column')\n",
    "plt.xticks(rotation=45)  # Rotate x-axis labels for better readability\n",
    "\n",
    "# Show plot\n",
    "plt.tight_layout()  # Adjust layout to prevent overlap\n",
    "plt.show()"
   ]
  },
  {
   "cell_type": "code",
   "execution_count": 9,
   "metadata": {},
   "outputs": [
    {
     "data": {
      "image/png": "[encoded data removed]",
      "text/plain": [
       "<Figure size 720x432 with 1 Axes>"
      ]
     },
     "metadata": {
      "needs_background": "light"
     },
     "output_type": "display_data"
    }
   ],
   "source": [
    "# Create a Box Plot for Region Two Features \n",
    "columns_to_plot = ['f0', 'f1', 'f2']\n",
    "\n",
    "# Extract data for the specified columns\n",
    "data_to_plot = r2[columns_to_plot]\n",
    "\n",
    "# Create a box plot\n",
    "plt.figure(figsize=(10, 6))  # Adjust figure size as needed\n",
    "data_to_plot.boxplot()\n",
    "\n",
    "# Customize plot\n",
    "plt.title('Box Plot Region Two Feature Distribution')\n",
    "plt.ylabel('Value')\n",
    "plt.xlabel('Column')\n",
    "plt.xticks(rotation=45)  # Rotate x-axis labels for better readability\n",
    "\n",
    "# Show plot\n",
    "plt.tight_layout()  # Adjust layout to prevent overlap\n",
    "plt.show()"
   ]
  },
  {
   "cell_type": "code",
   "execution_count": 10,
   "metadata": {},
   "outputs": [
    {
     "data": {
      "image/png": "[encoded data removed]",
      "text/plain": [
       "<Figure size 720x432 with 1 Axes>"
      ]
     },
     "metadata": {
      "needs_background": "light"
     },
     "output_type": "display_data"
    }
   ],
   "source": [
    "# Create a box plot for each separate column\n",
    "plt.figure(figsize=(10, 6))\n",
    "plt.boxplot([r0['product'], r1['product'], r2['product']])\n",
    "plt.title('Box Plot of Product for Regions 0-2')\n",
    "plt.ylabel('volume of reserves in the oil well (thousand barrels)')\n",
    "plt.xlabel('Region')\n",
    "plt.xticks([1, 2, 3], ['0', '1', '2'])\n",
    "plt.show()"
   ]
  },
  {
   "cell_type": "markdown",
   "metadata": {},
   "source": [
    "**Findings:** \n",
    "Due to the difference in the scale of the various features for all three data sets, the data should be scaled. Region 2 has the most variability, region 1 has the least. "
   ]
  },
  {
   "cell_type": "markdown",
   "metadata": {},
   "source": [
    "#### Splitting the Data "
   ]
  },
  {
   "cell_type": "markdown",
   "metadata": {},
   "source": [
    "**Prepare the Region Zero Data Set**"
   ]
  },
  {
   "cell_type": "code",
   "execution_count": 11,
   "metadata": {},
   "outputs": [],
   "source": [
    "# Split the r0 data set into features and target\n",
    "target = r0['product']\n",
    "features = r0.drop('product', axis = 1)\n",
    "\n",
    "# Initialize standard Scaler for Region 0 data\n",
    "scaler0 = StandardScaler()"
   ]
  },
  {
   "cell_type": "code",
   "execution_count": 12,
   "metadata": {},
   "outputs": [
    {
     "name": "stdout",
     "output_type": "stream",
     "text": [
      "features_train size:  (75000, 3)\n",
      "target_train size:  (75000,)\n",
      "features_valid size:  (25000, 3)\n",
      "target_valid size:  (25000,)\n"
     ]
    }
   ],
   "source": [
    "# Split into training and validation sets\n",
    "r0_features_train, r0_features_valid, r0_target_train, r0_target_valid = train_test_split(features, target, test_size=0.25, random_state=12345)\n",
    "\n",
    "#Split off ID\n",
    "r0_features_train = r0_features_train.drop('id', axis=1)\n",
    "r0_valid_ids= r0_features_valid['id']\n",
    "r0_features_valid = r0_features_valid.drop('id', axis=1)\n",
    "\n",
    "#Scale features\n",
    "r0_features_train =scaler0.fit_transform(r0_features_train)\n",
    "r0_features_valid =scaler0.transform(r0_features_valid)\n",
    "\n",
    "# Check Set shapes \n",
    "print('features_train size: ', r0_features_train.shape)\n",
    "print('target_train size: ', r0_target_train.shape)\n",
    "print('features_valid size: ', r0_features_valid.shape)\n",
    "print('target_valid size: ', r0_target_valid.shape)"
   ]
  },
  {
   "cell_type": "markdown",
   "metadata": {},
   "source": [
    "**Prepare the Region One Data Set**"
   ]
  },
  {
   "cell_type": "code",
   "execution_count": 13,
   "metadata": {},
   "outputs": [],
   "source": [
    "# Split the r1 data set into features and target\n",
    "target = r1['product']\n",
    "features = r1.drop('product', axis = 1)\n",
    "\n",
    "# Initialize standard Scaler for Region 1 data\n",
    "scaler1 = StandardScaler()"
   ]
  },
  {
   "cell_type": "code",
   "execution_count": 14,
   "metadata": {},
   "outputs": [
    {
     "name": "stdout",
     "output_type": "stream",
     "text": [
      "features_train size:  (75000, 3)\n",
      "target_train size:  (75000,)\n",
      "features_valid size:  (25000, 3)\n",
      "target_valid size:  (25000,)\n"
     ]
    }
   ],
   "source": [
    "# Split into training and validation sets\n",
    "r1_features_train, r1_features_valid, r1_target_train, r1_target_valid = train_test_split(features, target, test_size=0.25, random_state=12345)\n",
    "\n",
    "#Split off ID\n",
    "r1_features_train = r1_features_train.drop('id', axis=1)\n",
    "r1_valid_ids= r1_features_valid['id']\n",
    "r1_features_valid = r1_features_valid.drop('id', axis=1)\n",
    "\n",
    "# Scale Features\n",
    "r1_features_train =scaler1.fit_transform(r1_features_train)\n",
    "r1_features_valid =scaler1.transform(r1_features_valid)\n",
    "\n",
    "# Check Set shapes \n",
    "print('features_train size: ', r1_features_train.shape)\n",
    "print('target_train size: ', r1_target_train.shape)\n",
    "print('features_valid size: ', r1_features_valid.shape)\n",
    "print('target_valid size: ', r1_target_valid.shape)"
   ]
  },
  {
   "cell_type": "markdown",
   "metadata": {},
   "source": [
    "**Prepare the Region Two Data Set**"
   ]
  },
  {
   "cell_type": "code",
   "execution_count": 15,
   "metadata": {},
   "outputs": [],
   "source": [
    "# Split the r1 data set into features and target\n",
    "target = r2['product']\n",
    "features = r2.drop('product', axis = 1)\n",
    "\n",
    "# Initialize standard Scaler for Region 2 data\n",
    "scaler2 = StandardScaler()"
   ]
  },
  {
   "cell_type": "code",
   "execution_count": 16,
   "metadata": {},
   "outputs": [
    {
     "name": "stdout",
     "output_type": "stream",
     "text": [
      "features_train size:  (75000, 3)\n",
      "target_train size:  (75000,)\n",
      "features_valid size:  (25000, 3)\n",
      "target_valid size:  (25000,)\n"
     ]
    }
   ],
   "source": [
    "# Split into training and validation sets\n",
    "r2_features_train, r2_features_valid, r2_target_train, r2_target_valid = train_test_split(features, target, test_size=0.25, random_state=12345)\n",
    "\n",
    "#Split off ID\n",
    "r2_features_train = r2_features_train.drop('id', axis=1)\n",
    "r2_valid_ids= r2_features_valid['id']\n",
    "r2_features_valid = r2_features_valid.drop('id', axis=1)\n",
    "\n",
    "#Scale features\n",
    "r2_features_train =scaler2.fit_transform(r2_features_train)\n",
    "r2_features_valid =scaler2.transform(r2_features_valid)\n",
    "\n",
    "# Check Set shapes \n",
    "print('features_train size: ', r2_features_train.shape)\n",
    "print('target_train size: ', r2_target_train.shape)\n",
    "print('features_valid size: ', r2_features_valid.shape)\n",
    "print('target_valid size: ', r2_target_valid.shape)"
   ]
  },
  {
   "cell_type": "markdown",
   "metadata": {},
   "source": [
    "### Part Two: Train the Model and Make Predictions for Each Region \n",
    "---"
   ]
  },
  {
   "cell_type": "markdown",
   "metadata": {},
   "source": [
    "#### Region Zero "
   ]
  },
  {
   "cell_type": "code",
   "execution_count": 17,
   "metadata": {},
   "outputs": [
    {
     "name": "stdout",
     "output_type": "stream",
     "text": [
      "Average Volume of Predicted Reserves for Region 0:  92.59257977266688\n",
      "Model RMSE:  37.57943663534942\n"
     ]
    }
   ],
   "source": [
    "\n",
    "# Define a range of alpha values to search\n",
    "alphas = [0.001, 0.01, 0.1, 1, 10, 100]\n",
    "\n",
    "# Perform grid search with cross-validation\n",
    "param_grid = {'alpha': alphas}\n",
    "grid_search = GridSearchCV(Ridge(), param_grid, cv=5)\n",
    "grid_search.fit(r0_features_train, r0_target_train)\n",
    "\n",
    "# Get the best Ridge regression model from grid search\n",
    "best_ridge_model = grid_search.best_estimator_\n",
    "\n",
    "# Make predictions on the validation data using the best model\n",
    "r0_predictions = best_ridge_model.predict(r0_features_valid)\n",
    "\n",
    "# Calculate RMSE\n",
    "mse = mean_squared_error(r0_target_valid, r0_predictions)\n",
    "r0_rmse = np.sqrt(mse)\n",
    "\n",
    "print('Average Volume of Predicted Reserves for Region 0: ', r0_predictions.mean())\n",
    "print(\"Model RMSE: \", r0_rmse)"
   ]
  },
  {
   "cell_type": "markdown",
   "metadata": {},
   "source": [
    "#### Region One"
   ]
  },
  {
   "cell_type": "code",
   "execution_count": 18,
   "metadata": {},
   "outputs": [
    {
     "name": "stdout",
     "output_type": "stream",
     "text": [
      "Average Volume of Predicted Reserves for Region One:  68.728546895446\n",
      "Model RMSE:  0.893099286775617\n"
     ]
    }
   ],
   "source": [
    "r1_model = LinearRegression()\n",
    "\n",
    "r1_model.fit(r1_features_train, r1_target_train)\n",
    "\n",
    "r1_predictions = r1_model.predict(r1_features_valid)\n",
    "\n",
    "# Calculate the RMSE\n",
    "mse = mean_squared_error(r1_target_valid, r1_predictions)\n",
    "r1_rmse = np.sqrt(mse)\n",
    "\n",
    "print('Average Volume of Predicted Reserves for Region One: ', r1_predictions.mean())\n",
    "print(\"Model RMSE: \", r1_rmse)"
   ]
  },
  {
   "cell_type": "markdown",
   "metadata": {},
   "source": [
    "#### Region Two"
   ]
  },
  {
   "cell_type": "code",
   "execution_count": 19,
   "metadata": {},
   "outputs": [
    {
     "name": "stdout",
     "output_type": "stream",
     "text": [
      "Average Volume of Predicted Reserves for Region One:  94.96504596800489\n",
      "Model RMSE:  40.02970873393434\n"
     ]
    }
   ],
   "source": [
    "r2_model = LinearRegression()\n",
    "\n",
    "r2_model.fit(r2_features_train, r2_target_train)\n",
    "\n",
    "r2_predictions = r2_model.predict(r2_features_valid)\n",
    "\n",
    "# Calculate the RMSE\n",
    "mse = mean_squared_error(r2_target_valid, r2_predictions)\n",
    "r2_rmse = np.sqrt(mse)\n",
    "\n",
    "print('Average Volume of Predicted Reserves for Region One: ', r2_predictions.mean())\n",
    "print(\"Model RMSE: \", r2_rmse)"
   ]
  },
  {
   "cell_type": "markdown",
   "metadata": {},
   "source": [
    "**Analysis**\n",
    "\n",
    "Regions 0 and one have a higher average volume of predicted reserves, with approximately 92.6 and 94.9 respectively. That being said that the models also have a higher RMSE, with approximately 37.6 and 40.0 respectively. Meanwhile, region 1 has an average volume of predicted reserves of approximately 68.7 and a model RMSE of approximately 0.89. This suggests that the model predicts reserves much more accurately for the region one data. It can be observed in the statistical analysis done earlier that the features of the region one data have a different distribution than those of the other two regions, and the product values have less variability. "
   ]
  },
  {
   "cell_type": "markdown",
   "metadata": {},
   "source": [
    "### Part Three: Profit Calculations\n",
    "---"
   ]
  },
  {
   "cell_type": "markdown",
   "metadata": {},
   "source": [
    "The projected profit of each region will be calculated by selecting the 200 wells with the highest predicted volume and determining their profit using the following conditions: \n",
    "- The budget for development of 200 oil wells is 100 USD million.\n",
    "- One barrel of raw materials brings 4.5 USD of revenue The revenue from one unit of product is 4,500 dollars (volume of reserves is in thousand barrels)."
   ]
  },
  {
   "cell_type": "markdown",
   "metadata": {},
   "source": [
    "**Calculate the volume of reserves sufficient for developing a new well without losses**"
   ]
  },
  {
   "cell_type": "code",
   "execution_count": 20,
   "metadata": {},
   "outputs": [
    {
     "name": "stdout",
     "output_type": "stream",
     "text": [
      "To break even on 200 wells, each well must have  111.11111111111111 thousand barrels of oil\n",
      "or the 200 wells must average to at least that amount\n"
     ]
    }
   ],
   "source": [
    "well_min = (100000000/200)/4500 # (Development cost / number of wells) / revenue per one thousand barrels\n",
    "print(\"To break even on 200 wells, each well must have \", well_min, \"thousand barrels of oil\")\n",
    "print(\"or the 200 wells must average to at least that amount\")"
   ]
  },
  {
   "cell_type": "markdown",
   "metadata": {},
   "source": [
    "**Compare the obtained value with the average volume of reserves in each region**"
   ]
  },
  {
   "cell_type": "code",
   "execution_count": 21,
   "metadata": {},
   "outputs": [
    {
     "data": {
      "image/png": "[encoded data removed]",
      "text/plain": [
       "<Figure size 720x432 with 1 Axes>"
      ]
     },
     "metadata": {
      "needs_background": "light"
     },
     "output_type": "display_data"
    }
   ],
   "source": [
    "\n",
    "plt.figure(figsize=(10, 6))\n",
    "plt.boxplot([r0_predictions, r1_predictions, r2_predictions])\n",
    "plt.title('Box Plot of Predictions for Regions')\n",
    "plt.ylabel('Prediction Volume of Oil (in thousands of barrels)')\n",
    "plt.xticks([1, 2, 3], ['Region 0', 'Region 1', 'Region 2'])\n",
    "plt.grid(True) # Add grid lines for better visualization\n",
    "plt.axhline(y=well_min, color='r', linestyle='--', label='Break Even Well Minimum')\n",
    "\n",
    "\n",
    "plt.legend()\n",
    "plt.show()"
   ]
  },
  {
   "cell_type": "code",
   "execution_count": 22,
   "metadata": {},
   "outputs": [
    {
     "name": "stdout",
     "output_type": "stream",
     "text": [
      "The predicted average for region 0 is  18.518531338444234 thousand barrels less than the profitable minimum.\n",
      "The predicted average for region 1 is  42.38256421566511 thousand barrels less than the profitable minimum.\n",
      "The predicted average for region 2 is  16.146065143106227 thousand barrels less than the profitable minimum.\n"
     ]
    }
   ],
   "source": [
    "print(\"The predicted average for region 0 is \", well_min-r0_predictions.mean(),\"thousand barrels less than the profitable minimum.\")\n",
    "print(\"The predicted average for region 1 is \", well_min-r1_predictions.mean(),\"thousand barrels less than the profitable minimum.\")\n",
    "print(\"The predicted average for region 2 is \", well_min-r2_predictions.mean(),\"thousand barrels less than the profitable minimum.\")"
   ]
  },
  {
   "cell_type": "markdown",
   "metadata": {},
   "source": [
    "**Findings**"
   ]
  },
  {
   "cell_type": "markdown",
   "metadata": {},
   "source": [
    "The average and majority of wells for each region do not meet the 111 thousand barrel threshold of profitability. Region one falls the most short, with its predicted average being approximately 42 thousand barrels less than the profitable minimum, while regions 0 and 2 fall significantly less short, with their predicted averages short by 18.5 and 16.1 thousand barrels respectively. "
   ]
  },
  {
   "cell_type": "markdown",
   "metadata": {},
   "source": [
    "**Calculate profit from a set of selected oil wells and model predictions**"
   ]
  },
  {
   "cell_type": "code",
   "execution_count": 23,
   "metadata": {},
   "outputs": [],
   "source": [
    "def complete_df(targets, predictions, ids):\n",
    "    df = pd.DataFrame({\n",
    "    'actual': targets,\n",
    "    'prediction': predictions,\n",
    "    'id': ids})\n",
    "    return df"
   ]
  },
  {
   "cell_type": "code",
   "execution_count": 24,
   "metadata": {},
   "outputs": [],
   "source": [
    "def profit(df):\n",
    "    df = df.sort_values(by='prediction',ascending=False)\n",
    "    top_wells = df.head(200)\n",
    "    profit = (top_wells['actual'].sum() * 4500) - 100000000\n",
    "    return profit"
   ]
  },
  {
   "cell_type": "code",
   "execution_count": 25,
   "metadata": {},
   "outputs": [
    {
     "name": "stdout",
     "output_type": "stream",
     "text": [
      "Potential profit for region zero wells:  33208260.43139851\n",
      "Potential profit for region one wells:  24150866.966815114\n",
      "Potential profit for region two wells:  27103499.635998324\n"
     ]
    }
   ],
   "source": [
    "r0_data = complete_df(r0_target_valid,r0_predictions, r0_valid_ids)\n",
    "r1_data = complete_df(r1_target_valid,r1_predictions, r1_valid_ids)\n",
    "r2_data = complete_df(r2_target_valid,r2_predictions, r2_valid_ids)\n",
    "\n",
    "print(\"Potential profit for region zero wells: \", profit(r0_data))\n",
    "print(\"Potential profit for region one wells: \", profit(r1_data))\n",
    "print(\"Potential profit for region two wells: \", profit(r2_data))"
   ]
  },
  {
   "cell_type": "markdown",
   "metadata": {},
   "source": [
    "**Findings**\n",
    "\n",
    "*Without considering risk*, it is clear that region zer0 has the highest predicted profit, with an estimation of approximately 33,208,260.43 USD. That is approximately 6 million USD more profit than region 2 and approximately 9 million USD more profitable than region 1. "
   ]
  },
  {
   "cell_type": "markdown",
   "metadata": {},
   "source": [
    "### Part Four: Calculate Risks and Profit for Each Region\n",
    "---"
   ]
  },
  {
   "cell_type": "markdown",
   "metadata": {},
   "source": [
    "The bootstrapping technique will be used to find the distribution of profit. Average profit, 95% confidence interval and risk of losses will also be calculated for each region. "
   ]
  },
  {
   "cell_type": "code",
   "execution_count": 26,
   "metadata": {},
   "outputs": [
    {
     "data": {
      "text/plain": [
       "(25000, 3)"
      ]
     },
     "execution_count": 26,
     "metadata": {},
     "output_type": "execute_result"
    }
   ],
   "source": [
    "r0_data.shape\n"
   ]
  },
  {
   "cell_type": "code",
   "execution_count": 28,
   "metadata": {},
   "outputs": [],
   "source": [
    "# Bootstrap the predictions from the three regions \n",
    "state = np.random.RandomState(12345)\n",
    "num_samples = 1000\n",
    "sample_size= 500\n",
    "\n",
    "# Bootstrap the predictions from Region O\n",
    "r0_profit_bootstrap = []\n",
    "for i in range(num_samples):\n",
    "    sample = r0_data.sample(frac=sample_size/len(r0_data), replace=True, random_state=state)\n",
    "    sample_profit = profit(sample)\n",
    "    r0_profit_bootstrap.append(sample_profit)\n",
    "\n",
    "# Bootstrap the predictions from Region 1\n",
    "r1_profit_bootstrap = []\n",
    "for i in range(num_samples):\n",
    "    sample = r1_data.sample(frac=sample_size/len(r1_data), replace=True, random_state=state)\n",
    "    sample_profit = profit(sample)\n",
    "    r1_profit_bootstrap.append(sample_profit)\n",
    "    \n",
    "# Bootstrap the predictions from Region 2\n",
    "r2_profit_bootstrap = []\n",
    "for i in range(num_samples):\n",
    "    sample = r2_data.sample(frac=sample_size/len(r2_data), replace=True, random_state=state)\n",
    "    sample_profit = profit(sample)\n",
    "    r2_profit_bootstrap.append(sample_profit)"
   ]
  },
  {
   "cell_type": "code",
   "execution_count": 29,
   "metadata": {},
   "outputs": [],
   "source": [
    "def calculate(profits):\n",
    "    \n",
    "    # Calculate average profit \n",
    "    avg_profit = np.mean(profits)\n",
    "    # Calculate 95% confidence interval \n",
    "    ci= np.percentile(profits, [2.5, 97.5])\n",
    "     # Calculate risk of losses (probability of negative profit)\n",
    "    count = 0\n",
    "    for profit in profits:\n",
    "        if profit < 0:\n",
    "            count +=1 \n",
    "    risk = count/len(profits)\n",
    "\n",
    "    # Express risk of losses as a percentage\n",
    "    risk_percentage = risk * 100\n",
    "\n",
    "    return avg_profit, ci, risk, risk_percentage"
   ]
  },
  {
   "cell_type": "code",
   "execution_count": 30,
   "metadata": {},
   "outputs": [
    {
     "name": "stdout",
     "output_type": "stream",
     "text": [
      "Region 0\n",
      "Average Profit: 3960965.058239498\n",
      "95% Confidence Interval: [-1112155.45890496  9097669.41553423]\n",
      "Risk of Losses: 0.069\n",
      "Risk Percentage: 6.90%\n"
     ]
    }
   ],
   "source": [
    "avg_profit_0, ci_0, risk_0, risk_percentage_0 = calculate(r0_profit_bootstrap)\n",
    "print(\"Region 0\")\n",
    "print(\"Average Profit:\", avg_profit_0)\n",
    "print(\"95% Confidence Interval:\", ci_0)\n",
    "print(\"Risk of Losses:\", risk_0)\n",
    "print(f\"Risk Percentage: {risk_percentage_0:.2f}%\")"
   ]
  },
  {
   "cell_type": "code",
   "execution_count": 31,
   "metadata": {},
   "outputs": [
    {
     "name": "stdout",
     "output_type": "stream",
     "text": [
      "Region 1\n",
      "Average Profit: 4611558.172772396\n",
      "95% Confidence Interval: [ 780508.10751742 8629520.60263723]\n",
      "Risk of Losses: 0.007\n",
      "Risk Percentage: 0.70%\n"
     ]
    }
   ],
   "source": [
    "avg_profit_1, ci_1, risk_1, risk_percentage_1 = calculate(r1_profit_bootstrap)\n",
    "print(\"Region 1\")\n",
    "print(\"Average Profit:\", avg_profit_1)\n",
    "print(\"95% Confidence Interval:\", ci_1)\n",
    "print(\"Risk of Losses:\", risk_1)\n",
    "print(f\"Risk Percentage: {risk_percentage_1:.2f}%\")"
   ]
  },
  {
   "cell_type": "code",
   "execution_count": 32,
   "metadata": {},
   "outputs": [
    {
     "name": "stdout",
     "output_type": "stream",
     "text": [
      "Region 2\n",
      "Average Profit: 3929504.7517060456\n",
      "95% Confidence Interval: [-1122276.25378575  9345629.14551164]\n",
      "Risk of Losses: 0.065\n",
      "Risk Percentage: 6.50%\n"
     ]
    }
   ],
   "source": [
    "avg_profit_2, ci_2, risk_2, risk_percentage_2 = calculate(r2_profit_bootstrap)\n",
    "print(\"Region 2\")\n",
    "print(\"Average Profit:\", avg_profit_2)\n",
    "print(\"95% Confidence Interval:\", ci_2)\n",
    "print(\"Risk of Losses:\", risk_2)\n",
    "print(f\"Risk Percentage: {risk_percentage_2:.2f}%\")"
   ]
  },
  {
   "cell_type": "markdown",
   "metadata": {},
   "source": [
    "**Findings**\n",
    "\n",
    "Region 1 offers the lowest risk, with only a 0.7% risk of loss, and the highest average profit. "
   ]
  },
  {
   "cell_type": "markdown",
   "metadata": {},
   "source": [
    "### Final Recommendations \n",
    "---"
   ]
  },
  {
   "cell_type": "markdown",
   "metadata": {},
   "source": [
    "Based on the analysis of profits and associated risks in different regions, it is recommended to set up wells in Region 1. The findings indicate that Region 1 has the highest average profit among the three regions, with an average profit of \\\\$4,611,572. Furthermore, the 95% confidence interval for profits in Region 1 ranges from \\\\$780,508 to \\\\$8,629,521, suggesting relatively stable returns. Additionally, Region 1 exhibits the lowest risk of losses, with only a 0.7% chance of experiencing losses, compared to 7% in Region 0 and 6.5% in Region 2. These favorable indicators in Region 1 make it a promising choice for well establishment, offering a potentially lucrative opportunity with relatively low risk."
   ]
  }
 ],
 "metadata": {
  "kernelspec": {
   "display_name": "Python 3 (ipykernel)",
   "language": "python",
   "name": "python3"
  },
  "language_info": {
   "codemirror_mode": {
    "name": "ipython",
    "version": 3
   },
   "file_extension": ".py",
   "mimetype": "text/x-python",
   "name": "python",
   "nbconvert_exporter": "python",
   "pygments_lexer": "ipython3",
   "version": "3.9.5"
  },
  "toc": {
   "base_numbering": 1,
   "nav_menu": {},
   "number_sections": true,
   "sideBar": true,
   "skip_h1_title": true,
   "title_cell": "Table of Contents",
   "title_sidebar": "Contents",
   "toc_cell": false,
   "toc_position": {},
   "toc_section_display": true,
   "toc_window_display": false
  }
 },
 "nbformat": 4,
 "nbformat_minor": 2
}
